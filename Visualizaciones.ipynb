{
  "nbformat": 4,
  "nbformat_minor": 0,
  "metadata": {
    "colab": {
      "name": "Visualizaciones.ipynb",
      "provenance": [],
      "collapsed_sections": []
    },
    "kernelspec": {
      "name": "python3",
      "display_name": "Python 3"
    },
    "language_info": {
      "name": "python"
    }
  },
  "cells": [
    {
      "cell_type": "code",
      "metadata": {
        "colab": {
          "base_uri": "https://localhost:8080/"
        },
        "id": "WxiHPl6axhd9",
        "outputId": "2d6da721-ef12-4407-a93e-69ae65caa4b1"
      },
      "source": [
        "from google.colab import drive\n",
        "drive.mount('/content/drive')"
      ],
      "execution_count": 1,
      "outputs": [
        {
          "output_type": "stream",
          "name": "stdout",
          "text": [
            "Mounted at /content/drive\n"
          ]
        }
      ]
    },
    {
      "cell_type": "code",
      "metadata": {
        "id": "9yCl9SpUy3C_"
      },
      "source": [
        "import pandas as pd\n",
        "filename = '/content/drive/MyDrive/Data Science CodingDojo/proyecto 1/sales_predictions.csv'\n",
        "data = pd.read_csv(filename)"
      ],
      "execution_count": 2,
      "outputs": []
    },
    {
      "cell_type": "markdown",
      "source": [
        "## Limpieza de datos"
      ],
      "metadata": {
        "id": "3mOXDz4pRDtO"
      }
    },
    {
      "cell_type": "code",
      "metadata": {
        "id": "VrDXNofLLOSv"
      },
      "source": [
        "df = data.copy()"
      ],
      "execution_count": 3,
      "outputs": []
    },
    {
      "cell_type": "code",
      "metadata": {
        "colab": {
          "base_uri": "https://localhost:8080/",
          "height": 307
        },
        "id": "FR1hBUYbEoqa",
        "outputId": "847556fb-9e9e-4642-d140-11ba4e3f7b77"
      },
      "source": [
        "df.head()"
      ],
      "execution_count": 4,
      "outputs": [
        {
          "output_type": "execute_result",
          "data": {
            "text/html": [
              "<div>\n",
              "<style scoped>\n",
              "    .dataframe tbody tr th:only-of-type {\n",
              "        vertical-align: middle;\n",
              "    }\n",
              "\n",
              "    .dataframe tbody tr th {\n",
              "        vertical-align: top;\n",
              "    }\n",
              "\n",
              "    .dataframe thead th {\n",
              "        text-align: right;\n",
              "    }\n",
              "</style>\n",
              "<table border=\"1\" class=\"dataframe\">\n",
              "  <thead>\n",
              "    <tr style=\"text-align: right;\">\n",
              "      <th></th>\n",
              "      <th>Item_Identifier</th>\n",
              "      <th>Item_Weight</th>\n",
              "      <th>Item_Fat_Content</th>\n",
              "      <th>Item_Visibility</th>\n",
              "      <th>Item_Type</th>\n",
              "      <th>Item_MRP</th>\n",
              "      <th>Outlet_Identifier</th>\n",
              "      <th>Outlet_Establishment_Year</th>\n",
              "      <th>Outlet_Size</th>\n",
              "      <th>Outlet_Location_Type</th>\n",
              "      <th>Outlet_Type</th>\n",
              "      <th>Item_Outlet_Sales</th>\n",
              "    </tr>\n",
              "  </thead>\n",
              "  <tbody>\n",
              "    <tr>\n",
              "      <th>0</th>\n",
              "      <td>FDA15</td>\n",
              "      <td>9.30</td>\n",
              "      <td>Low Fat</td>\n",
              "      <td>0.016047</td>\n",
              "      <td>Dairy</td>\n",
              "      <td>249.8092</td>\n",
              "      <td>OUT049</td>\n",
              "      <td>1999</td>\n",
              "      <td>Medium</td>\n",
              "      <td>Tier 1</td>\n",
              "      <td>Supermarket Type1</td>\n",
              "      <td>3735.1380</td>\n",
              "    </tr>\n",
              "    <tr>\n",
              "      <th>1</th>\n",
              "      <td>DRC01</td>\n",
              "      <td>5.92</td>\n",
              "      <td>Regular</td>\n",
              "      <td>0.019278</td>\n",
              "      <td>Soft Drinks</td>\n",
              "      <td>48.2692</td>\n",
              "      <td>OUT018</td>\n",
              "      <td>2009</td>\n",
              "      <td>Medium</td>\n",
              "      <td>Tier 3</td>\n",
              "      <td>Supermarket Type2</td>\n",
              "      <td>443.4228</td>\n",
              "    </tr>\n",
              "    <tr>\n",
              "      <th>2</th>\n",
              "      <td>FDN15</td>\n",
              "      <td>17.50</td>\n",
              "      <td>Low Fat</td>\n",
              "      <td>0.016760</td>\n",
              "      <td>Meat</td>\n",
              "      <td>141.6180</td>\n",
              "      <td>OUT049</td>\n",
              "      <td>1999</td>\n",
              "      <td>Medium</td>\n",
              "      <td>Tier 1</td>\n",
              "      <td>Supermarket Type1</td>\n",
              "      <td>2097.2700</td>\n",
              "    </tr>\n",
              "    <tr>\n",
              "      <th>3</th>\n",
              "      <td>FDX07</td>\n",
              "      <td>19.20</td>\n",
              "      <td>Regular</td>\n",
              "      <td>0.000000</td>\n",
              "      <td>Fruits and Vegetables</td>\n",
              "      <td>182.0950</td>\n",
              "      <td>OUT010</td>\n",
              "      <td>1998</td>\n",
              "      <td>NaN</td>\n",
              "      <td>Tier 3</td>\n",
              "      <td>Grocery Store</td>\n",
              "      <td>732.3800</td>\n",
              "    </tr>\n",
              "    <tr>\n",
              "      <th>4</th>\n",
              "      <td>NCD19</td>\n",
              "      <td>8.93</td>\n",
              "      <td>Low Fat</td>\n",
              "      <td>0.000000</td>\n",
              "      <td>Household</td>\n",
              "      <td>53.8614</td>\n",
              "      <td>OUT013</td>\n",
              "      <td>1987</td>\n",
              "      <td>High</td>\n",
              "      <td>Tier 3</td>\n",
              "      <td>Supermarket Type1</td>\n",
              "      <td>994.7052</td>\n",
              "    </tr>\n",
              "  </tbody>\n",
              "</table>\n",
              "</div>"
            ],
            "text/plain": [
              "  Item_Identifier  Item_Weight  ...        Outlet_Type  Item_Outlet_Sales\n",
              "0           FDA15         9.30  ...  Supermarket Type1          3735.1380\n",
              "1           DRC01         5.92  ...  Supermarket Type2           443.4228\n",
              "2           FDN15        17.50  ...  Supermarket Type1          2097.2700\n",
              "3           FDX07        19.20  ...      Grocery Store           732.3800\n",
              "4           NCD19         8.93  ...  Supermarket Type1           994.7052\n",
              "\n",
              "[5 rows x 12 columns]"
            ]
          },
          "metadata": {},
          "execution_count": 4
        }
      ]
    },
    {
      "cell_type": "markdown",
      "metadata": {
        "id": "x0JoPV46Ef4T"
      },
      "source": [
        "###Análisis de datos faltantes "
      ]
    },
    {
      "cell_type": "markdown",
      "metadata": {
        "id": "XM4PMO5NF772"
      },
      "source": [
        "1.- Utilizaremos .info() para observar en que columnas tenemos datos faltantes."
      ]
    },
    {
      "cell_type": "code",
      "metadata": {
        "colab": {
          "base_uri": "https://localhost:8080/"
        },
        "id": "lLJUzigzVQzu",
        "outputId": "38ac8a36-1a52-420f-9f43-b5935aabbfd0"
      },
      "source": [
        "df.info()"
      ],
      "execution_count": 5,
      "outputs": [
        {
          "output_type": "stream",
          "name": "stdout",
          "text": [
            "<class 'pandas.core.frame.DataFrame'>\n",
            "RangeIndex: 8523 entries, 0 to 8522\n",
            "Data columns (total 12 columns):\n",
            " #   Column                     Non-Null Count  Dtype  \n",
            "---  ------                     --------------  -----  \n",
            " 0   Item_Identifier            8523 non-null   object \n",
            " 1   Item_Weight                7060 non-null   float64\n",
            " 2   Item_Fat_Content           8523 non-null   object \n",
            " 3   Item_Visibility            8523 non-null   float64\n",
            " 4   Item_Type                  8523 non-null   object \n",
            " 5   Item_MRP                   8523 non-null   float64\n",
            " 6   Outlet_Identifier          8523 non-null   object \n",
            " 7   Outlet_Establishment_Year  8523 non-null   int64  \n",
            " 8   Outlet_Size                6113 non-null   object \n",
            " 9   Outlet_Location_Type       8523 non-null   object \n",
            " 10  Outlet_Type                8523 non-null   object \n",
            " 11  Item_Outlet_Sales          8523 non-null   float64\n",
            "dtypes: float64(4), int64(1), object(7)\n",
            "memory usage: 799.2+ KB\n"
          ]
        }
      ]
    },
    {
      "cell_type": "markdown",
      "metadata": {
        "id": "jXSWdl6YEwLk"
      },
      "source": [
        "Los datos faltantes se encuentran en las columnas:\n",
        "\n",
        "*   Item_Weight\n",
        "*   Outlet_Size\n",
        "\n"
      ]
    },
    {
      "cell_type": "markdown",
      "metadata": {
        "id": "JrMIUxm8P7VN"
      },
      "source": [
        "### Columna 'Item_Weight'"
      ]
    },
    {
      "cell_type": "markdown",
      "metadata": {
        "id": "rTDAwoNkGQek"
      },
      "source": [
        "2.- Al revisar las columnas y los datos, tenemos la columna 'Item_Identifier' que nos ayudara a reemplazar los datos NaN de las columnas 'Item_Weight', ya que con ese identificador único podemos asociar el mismo valor que tienen los datos existentes. Ejemplo: "
      ]
    },
    {
      "cell_type": "code",
      "metadata": {
        "colab": {
          "base_uri": "https://localhost:8080/",
          "height": 450
        },
        "id": "VTEUxUyo_Z-e",
        "outputId": "514f6a36-4b05-47aa-dd2e-bb4b82d15092"
      },
      "source": [
        "ID = df['Item_Identifier'] == 'FDA15'\n",
        "filtro = df.loc[ID, :]\n",
        "filtro"
      ],
      "execution_count": 6,
      "outputs": [
        {
          "output_type": "execute_result",
          "data": {
            "text/html": [
              "<div>\n",
              "<style scoped>\n",
              "    .dataframe tbody tr th:only-of-type {\n",
              "        vertical-align: middle;\n",
              "    }\n",
              "\n",
              "    .dataframe tbody tr th {\n",
              "        vertical-align: top;\n",
              "    }\n",
              "\n",
              "    .dataframe thead th {\n",
              "        text-align: right;\n",
              "    }\n",
              "</style>\n",
              "<table border=\"1\" class=\"dataframe\">\n",
              "  <thead>\n",
              "    <tr style=\"text-align: right;\">\n",
              "      <th></th>\n",
              "      <th>Item_Identifier</th>\n",
              "      <th>Item_Weight</th>\n",
              "      <th>Item_Fat_Content</th>\n",
              "      <th>Item_Visibility</th>\n",
              "      <th>Item_Type</th>\n",
              "      <th>Item_MRP</th>\n",
              "      <th>Outlet_Identifier</th>\n",
              "      <th>Outlet_Establishment_Year</th>\n",
              "      <th>Outlet_Size</th>\n",
              "      <th>Outlet_Location_Type</th>\n",
              "      <th>Outlet_Type</th>\n",
              "      <th>Item_Outlet_Sales</th>\n",
              "    </tr>\n",
              "  </thead>\n",
              "  <tbody>\n",
              "    <tr>\n",
              "      <th>0</th>\n",
              "      <td>FDA15</td>\n",
              "      <td>9.3</td>\n",
              "      <td>Low Fat</td>\n",
              "      <td>0.016047</td>\n",
              "      <td>Dairy</td>\n",
              "      <td>249.8092</td>\n",
              "      <td>OUT049</td>\n",
              "      <td>1999</td>\n",
              "      <td>Medium</td>\n",
              "      <td>Tier 1</td>\n",
              "      <td>Supermarket Type1</td>\n",
              "      <td>3735.1380</td>\n",
              "    </tr>\n",
              "    <tr>\n",
              "      <th>831</th>\n",
              "      <td>FDA15</td>\n",
              "      <td>9.3</td>\n",
              "      <td>Low Fat</td>\n",
              "      <td>0.016055</td>\n",
              "      <td>Dairy</td>\n",
              "      <td>250.2092</td>\n",
              "      <td>OUT045</td>\n",
              "      <td>2002</td>\n",
              "      <td>NaN</td>\n",
              "      <td>Tier 2</td>\n",
              "      <td>Supermarket Type1</td>\n",
              "      <td>5976.2208</td>\n",
              "    </tr>\n",
              "    <tr>\n",
              "      <th>2599</th>\n",
              "      <td>FDA15</td>\n",
              "      <td>9.3</td>\n",
              "      <td>Low Fat</td>\n",
              "      <td>0.016019</td>\n",
              "      <td>Dairy</td>\n",
              "      <td>248.5092</td>\n",
              "      <td>OUT035</td>\n",
              "      <td>2004</td>\n",
              "      <td>Small</td>\n",
              "      <td>Tier 2</td>\n",
              "      <td>Supermarket Type1</td>\n",
              "      <td>6474.2392</td>\n",
              "    </tr>\n",
              "    <tr>\n",
              "      <th>2643</th>\n",
              "      <td>FDA15</td>\n",
              "      <td>9.3</td>\n",
              "      <td>Low Fat</td>\n",
              "      <td>0.016088</td>\n",
              "      <td>Dairy</td>\n",
              "      <td>249.6092</td>\n",
              "      <td>OUT018</td>\n",
              "      <td>2009</td>\n",
              "      <td>Medium</td>\n",
              "      <td>Tier 3</td>\n",
              "      <td>Supermarket Type2</td>\n",
              "      <td>5976.2208</td>\n",
              "    </tr>\n",
              "    <tr>\n",
              "      <th>4874</th>\n",
              "      <td>FDA15</td>\n",
              "      <td>9.3</td>\n",
              "      <td>Low Fat</td>\n",
              "      <td>0.026818</td>\n",
              "      <td>Dairy</td>\n",
              "      <td>248.9092</td>\n",
              "      <td>OUT010</td>\n",
              "      <td>1998</td>\n",
              "      <td>NaN</td>\n",
              "      <td>Tier 3</td>\n",
              "      <td>Grocery Store</td>\n",
              "      <td>498.0184</td>\n",
              "    </tr>\n",
              "    <tr>\n",
              "      <th>5413</th>\n",
              "      <td>FDA15</td>\n",
              "      <td>9.3</td>\n",
              "      <td>Low Fat</td>\n",
              "      <td>0.016009</td>\n",
              "      <td>Dairy</td>\n",
              "      <td>250.6092</td>\n",
              "      <td>OUT013</td>\n",
              "      <td>1987</td>\n",
              "      <td>High</td>\n",
              "      <td>Tier 3</td>\n",
              "      <td>Supermarket Type1</td>\n",
              "      <td>6474.2392</td>\n",
              "    </tr>\n",
              "    <tr>\n",
              "      <th>6696</th>\n",
              "      <td>FDA15</td>\n",
              "      <td>NaN</td>\n",
              "      <td>Low Fat</td>\n",
              "      <td>0.015945</td>\n",
              "      <td>Dairy</td>\n",
              "      <td>249.5092</td>\n",
              "      <td>OUT027</td>\n",
              "      <td>1985</td>\n",
              "      <td>Medium</td>\n",
              "      <td>Tier 3</td>\n",
              "      <td>Supermarket Type3</td>\n",
              "      <td>6474.2392</td>\n",
              "    </tr>\n",
              "    <tr>\n",
              "      <th>7543</th>\n",
              "      <td>FDA15</td>\n",
              "      <td>9.3</td>\n",
              "      <td>LF</td>\n",
              "      <td>0.016113</td>\n",
              "      <td>Dairy</td>\n",
              "      <td>248.8092</td>\n",
              "      <td>OUT017</td>\n",
              "      <td>2007</td>\n",
              "      <td>NaN</td>\n",
              "      <td>Tier 2</td>\n",
              "      <td>Supermarket Type1</td>\n",
              "      <td>5976.2208</td>\n",
              "    </tr>\n",
              "  </tbody>\n",
              "</table>\n",
              "</div>"
            ],
            "text/plain": [
              "     Item_Identifier  Item_Weight  ...        Outlet_Type  Item_Outlet_Sales\n",
              "0              FDA15          9.3  ...  Supermarket Type1          3735.1380\n",
              "831            FDA15          9.3  ...  Supermarket Type1          5976.2208\n",
              "2599           FDA15          9.3  ...  Supermarket Type1          6474.2392\n",
              "2643           FDA15          9.3  ...  Supermarket Type2          5976.2208\n",
              "4874           FDA15          9.3  ...      Grocery Store           498.0184\n",
              "5413           FDA15          9.3  ...  Supermarket Type1          6474.2392\n",
              "6696           FDA15          NaN  ...  Supermarket Type3          6474.2392\n",
              "7543           FDA15          9.3  ...  Supermarket Type1          5976.2208\n",
              "\n",
              "[8 rows x 12 columns]"
            ]
          },
          "metadata": {},
          "execution_count": 6
        }
      ]
    },
    {
      "cell_type": "markdown",
      "metadata": {
        "id": "RlQbGWeRHmYB"
      },
      "source": [
        "Como se puede observar en este ejemplo, todos los datos que tienen el mismo Item_Identifier (FDA15) tienen como Item_Weight\t9.3, por ende, se puede suponer que el dato NaN faltante (index=6696) también tendría que ser de 9.3, ya que pertenece al mismo grupo. Utilizaremos esta lógica para completar el resto de los datos faltantes en la columna 'Item_Weight'."
      ]
    },
    {
      "cell_type": "markdown",
      "metadata": {
        "id": "d4xx_mGyIYeO"
      },
      "source": [
        "3.- Agruparemos por 'Item_Identifier' y mostraremos el valor que corresponde a cada uno de ellos."
      ]
    },
    {
      "cell_type": "code",
      "metadata": {
        "colab": {
          "base_uri": "https://localhost:8080/",
          "height": 447
        },
        "id": "2BPY-tHBD9nm",
        "outputId": "de8ba8f3-7dc6-4d1b-da4c-a248367aa009"
      },
      "source": [
        "id = df.groupby(['Item_Identifier'])[['Item_Weight']].mean()\n",
        "id"
      ],
      "execution_count": 7,
      "outputs": [
        {
          "output_type": "execute_result",
          "data": {
            "text/html": [
              "<div>\n",
              "<style scoped>\n",
              "    .dataframe tbody tr th:only-of-type {\n",
              "        vertical-align: middle;\n",
              "    }\n",
              "\n",
              "    .dataframe tbody tr th {\n",
              "        vertical-align: top;\n",
              "    }\n",
              "\n",
              "    .dataframe thead th {\n",
              "        text-align: right;\n",
              "    }\n",
              "</style>\n",
              "<table border=\"1\" class=\"dataframe\">\n",
              "  <thead>\n",
              "    <tr style=\"text-align: right;\">\n",
              "      <th></th>\n",
              "      <th>Item_Weight</th>\n",
              "    </tr>\n",
              "    <tr>\n",
              "      <th>Item_Identifier</th>\n",
              "      <th></th>\n",
              "    </tr>\n",
              "  </thead>\n",
              "  <tbody>\n",
              "    <tr>\n",
              "      <th>DRA12</th>\n",
              "      <td>11.600</td>\n",
              "    </tr>\n",
              "    <tr>\n",
              "      <th>DRA24</th>\n",
              "      <td>19.350</td>\n",
              "    </tr>\n",
              "    <tr>\n",
              "      <th>DRA59</th>\n",
              "      <td>8.270</td>\n",
              "    </tr>\n",
              "    <tr>\n",
              "      <th>DRB01</th>\n",
              "      <td>7.390</td>\n",
              "    </tr>\n",
              "    <tr>\n",
              "      <th>DRB13</th>\n",
              "      <td>6.115</td>\n",
              "    </tr>\n",
              "    <tr>\n",
              "      <th>...</th>\n",
              "      <td>...</td>\n",
              "    </tr>\n",
              "    <tr>\n",
              "      <th>NCZ30</th>\n",
              "      <td>6.590</td>\n",
              "    </tr>\n",
              "    <tr>\n",
              "      <th>NCZ41</th>\n",
              "      <td>19.850</td>\n",
              "    </tr>\n",
              "    <tr>\n",
              "      <th>NCZ42</th>\n",
              "      <td>10.500</td>\n",
              "    </tr>\n",
              "    <tr>\n",
              "      <th>NCZ53</th>\n",
              "      <td>9.600</td>\n",
              "    </tr>\n",
              "    <tr>\n",
              "      <th>NCZ54</th>\n",
              "      <td>14.650</td>\n",
              "    </tr>\n",
              "  </tbody>\n",
              "</table>\n",
              "<p>1559 rows × 1 columns</p>\n",
              "</div>"
            ],
            "text/plain": [
              "                 Item_Weight\n",
              "Item_Identifier             \n",
              "DRA12                 11.600\n",
              "DRA24                 19.350\n",
              "DRA59                  8.270\n",
              "DRB01                  7.390\n",
              "DRB13                  6.115\n",
              "...                      ...\n",
              "NCZ30                  6.590\n",
              "NCZ41                 19.850\n",
              "NCZ42                 10.500\n",
              "NCZ53                  9.600\n",
              "NCZ54                 14.650\n",
              "\n",
              "[1559 rows x 1 columns]"
            ]
          },
          "metadata": {},
          "execution_count": 7
        }
      ]
    },
    {
      "cell_type": "markdown",
      "metadata": {
        "id": "LQBkfN5CI0Lu"
      },
      "source": [
        "4.- Utilizaremos este For, el cual recorrerá el dataframe en busca de NaN y luego recorriendo nuestra tabla pivote (creada en el punto 4), asignara el mismo valor a los que tengan el mismo identificador. "
      ]
    },
    {
      "cell_type": "code",
      "metadata": {
        "colab": {
          "base_uri": "https://localhost:8080/"
        },
        "id": "lJ5-hFqRFoIU",
        "outputId": "9eac6a6d-afd5-43bc-bfcf-347953556c68"
      },
      "source": [
        "for x in range(len(df)):\n",
        "  null1=pd.isnull(df['Item_Weight'][x])\n",
        "  if (null1==True):\n",
        "    for y in range(len(id)):\n",
        "      if(id.index[y]==df['Item_Identifier'][x]):\n",
        "            df['Item_Weight'][x] = id['Item_Weight'][y]"
      ],
      "execution_count": 8,
      "outputs": [
        {
          "output_type": "stream",
          "name": "stderr",
          "text": [
            "/usr/local/lib/python3.7/dist-packages/ipykernel_launcher.py:6: SettingWithCopyWarning: \n",
            "A value is trying to be set on a copy of a slice from a DataFrame\n",
            "\n",
            "See the caveats in the documentation: https://pandas.pydata.org/pandas-docs/stable/user_guide/indexing.html#returning-a-view-versus-a-copy\n",
            "  \n"
          ]
        }
      ]
    },
    {
      "cell_type": "markdown",
      "metadata": {
        "id": "4rBO74jIJsY5"
      },
      "source": [
        "5.- Ahora veremos la información del dataframe para ver cuántos datos faltantes tenemos ahora. "
      ]
    },
    {
      "cell_type": "code",
      "metadata": {
        "colab": {
          "base_uri": "https://localhost:8080/"
        },
        "id": "obygDlDAzH5O",
        "outputId": "e8871e4d-2e21-42dd-8ce7-1f2a1660fb07"
      },
      "source": [
        "df.info()"
      ],
      "execution_count": 9,
      "outputs": [
        {
          "output_type": "stream",
          "name": "stdout",
          "text": [
            "<class 'pandas.core.frame.DataFrame'>\n",
            "RangeIndex: 8523 entries, 0 to 8522\n",
            "Data columns (total 12 columns):\n",
            " #   Column                     Non-Null Count  Dtype  \n",
            "---  ------                     --------------  -----  \n",
            " 0   Item_Identifier            8523 non-null   object \n",
            " 1   Item_Weight                8519 non-null   float64\n",
            " 2   Item_Fat_Content           8523 non-null   object \n",
            " 3   Item_Visibility            8523 non-null   float64\n",
            " 4   Item_Type                  8523 non-null   object \n",
            " 5   Item_MRP                   8523 non-null   float64\n",
            " 6   Outlet_Identifier          8523 non-null   object \n",
            " 7   Outlet_Establishment_Year  8523 non-null   int64  \n",
            " 8   Outlet_Size                6113 non-null   object \n",
            " 9   Outlet_Location_Type       8523 non-null   object \n",
            " 10  Outlet_Type                8523 non-null   object \n",
            " 11  Item_Outlet_Sales          8523 non-null   float64\n",
            "dtypes: float64(4), int64(1), object(7)\n",
            "memory usage: 799.2+ KB\n"
          ]
        }
      ]
    },
    {
      "cell_type": "markdown",
      "metadata": {
        "id": "59lrno-4KFHS"
      },
      "source": [
        "Ahora la columna 'Item_Weight' solo le faltan 4 datos, estas filas seran eliminadas posteriormente del dataframe, ya que no se encontro un identificador para esos NaN. "
      ]
    },
    {
      "cell_type": "markdown",
      "metadata": {
        "id": "3R3Q7FDwKfIq"
      },
      "source": [
        "### Columna 'Outlet_Size' "
      ]
    },
    {
      "cell_type": "markdown",
      "metadata": {
        "id": "zQlmsjbpQzbm"
      },
      "source": [
        "6.- No se puede usar la misma lógica que utilizamos en la columna 'Item_Weight', a pesar que hay una columna 'Outlet_Identifier', al agrupar los datos no tenemos otro dato existente con el mismo identificador."
      ]
    },
    {
      "cell_type": "code",
      "metadata": {
        "colab": {
          "base_uri": "https://localhost:8080/",
          "height": 388
        },
        "id": "Colpaif7L1jz",
        "outputId": "4d80bf2e-3886-41f5-dfd9-8600603ae855"
      },
      "source": [
        "id_2 = df.groupby(['Outlet_Identifier'])[['Outlet_Size']].count()\n",
        "id_2"
      ],
      "execution_count": 10,
      "outputs": [
        {
          "output_type": "execute_result",
          "data": {
            "text/html": [
              "<div>\n",
              "<style scoped>\n",
              "    .dataframe tbody tr th:only-of-type {\n",
              "        vertical-align: middle;\n",
              "    }\n",
              "\n",
              "    .dataframe tbody tr th {\n",
              "        vertical-align: top;\n",
              "    }\n",
              "\n",
              "    .dataframe thead th {\n",
              "        text-align: right;\n",
              "    }\n",
              "</style>\n",
              "<table border=\"1\" class=\"dataframe\">\n",
              "  <thead>\n",
              "    <tr style=\"text-align: right;\">\n",
              "      <th></th>\n",
              "      <th>Outlet_Size</th>\n",
              "    </tr>\n",
              "    <tr>\n",
              "      <th>Outlet_Identifier</th>\n",
              "      <th></th>\n",
              "    </tr>\n",
              "  </thead>\n",
              "  <tbody>\n",
              "    <tr>\n",
              "      <th>OUT010</th>\n",
              "      <td>0</td>\n",
              "    </tr>\n",
              "    <tr>\n",
              "      <th>OUT013</th>\n",
              "      <td>932</td>\n",
              "    </tr>\n",
              "    <tr>\n",
              "      <th>OUT017</th>\n",
              "      <td>0</td>\n",
              "    </tr>\n",
              "    <tr>\n",
              "      <th>OUT018</th>\n",
              "      <td>928</td>\n",
              "    </tr>\n",
              "    <tr>\n",
              "      <th>OUT019</th>\n",
              "      <td>528</td>\n",
              "    </tr>\n",
              "    <tr>\n",
              "      <th>OUT027</th>\n",
              "      <td>935</td>\n",
              "    </tr>\n",
              "    <tr>\n",
              "      <th>OUT035</th>\n",
              "      <td>930</td>\n",
              "    </tr>\n",
              "    <tr>\n",
              "      <th>OUT045</th>\n",
              "      <td>0</td>\n",
              "    </tr>\n",
              "    <tr>\n",
              "      <th>OUT046</th>\n",
              "      <td>930</td>\n",
              "    </tr>\n",
              "    <tr>\n",
              "      <th>OUT049</th>\n",
              "      <td>930</td>\n",
              "    </tr>\n",
              "  </tbody>\n",
              "</table>\n",
              "</div>"
            ],
            "text/plain": [
              "                   Outlet_Size\n",
              "Outlet_Identifier             \n",
              "OUT010                       0\n",
              "OUT013                     932\n",
              "OUT017                       0\n",
              "OUT018                     928\n",
              "OUT019                     528\n",
              "OUT027                     935\n",
              "OUT035                     930\n",
              "OUT045                       0\n",
              "OUT046                     930\n",
              "OUT049                     930"
            ]
          },
          "metadata": {},
          "execution_count": 10
        }
      ]
    },
    {
      "cell_type": "markdown",
      "metadata": {
        "id": "oN4Yit4ASQt9"
      },
      "source": [
        "7.- Utilizaremos otra agrupación para ver si existe otra manera de reemplazar los datos y no caer en alterar los datos sin un argumento lógico."
      ]
    },
    {
      "cell_type": "code",
      "metadata": {
        "id": "IurWfovz7G6X"
      },
      "source": [
        "#filtro para buscar los datos faltantes de la columna 'Outlet_Size'\n",
        "missing = df['Outlet_Size'].isna()"
      ],
      "execution_count": 11,
      "outputs": []
    },
    {
      "cell_type": "code",
      "metadata": {
        "colab": {
          "base_uri": "https://localhost:8080/",
          "height": 142
        },
        "id": "bfKfO6qtqHQt",
        "outputId": "93363249-e6a4-46b0-c380-e7020ce1741c"
      },
      "source": [
        "df.loc[missing,:].groupby(['Outlet_Type', 'Outlet_Location_Type'])[['Outlet_Location_Type']].count()"
      ],
      "execution_count": 12,
      "outputs": [
        {
          "output_type": "execute_result",
          "data": {
            "text/html": [
              "<div>\n",
              "<style scoped>\n",
              "    .dataframe tbody tr th:only-of-type {\n",
              "        vertical-align: middle;\n",
              "    }\n",
              "\n",
              "    .dataframe tbody tr th {\n",
              "        vertical-align: top;\n",
              "    }\n",
              "\n",
              "    .dataframe thead th {\n",
              "        text-align: right;\n",
              "    }\n",
              "</style>\n",
              "<table border=\"1\" class=\"dataframe\">\n",
              "  <thead>\n",
              "    <tr style=\"text-align: right;\">\n",
              "      <th></th>\n",
              "      <th></th>\n",
              "      <th>Outlet_Location_Type</th>\n",
              "    </tr>\n",
              "    <tr>\n",
              "      <th>Outlet_Type</th>\n",
              "      <th>Outlet_Location_Type</th>\n",
              "      <th></th>\n",
              "    </tr>\n",
              "  </thead>\n",
              "  <tbody>\n",
              "    <tr>\n",
              "      <th>Grocery Store</th>\n",
              "      <th>Tier 3</th>\n",
              "      <td>555</td>\n",
              "    </tr>\n",
              "    <tr>\n",
              "      <th>Supermarket Type1</th>\n",
              "      <th>Tier 2</th>\n",
              "      <td>1855</td>\n",
              "    </tr>\n",
              "  </tbody>\n",
              "</table>\n",
              "</div>"
            ],
            "text/plain": [
              "                                        Outlet_Location_Type\n",
              "Outlet_Type       Outlet_Location_Type                      \n",
              "Grocery Store     Tier 3                                 555\n",
              "Supermarket Type1 Tier 2                                1855"
            ]
          },
          "metadata": {},
          "execution_count": 12
        }
      ]
    },
    {
      "cell_type": "markdown",
      "metadata": {
        "id": "ll44qoUl3OHs"
      },
      "source": [
        "Al agrupar por 'Outlet_Type' los 2.410 datos faltantes están en el tipo de tienda \"Grocery Store\" 'Tier 3' y \"Supermarket Type1\" 'Tier 2'"
      ]
    },
    {
      "cell_type": "markdown",
      "metadata": {
        "id": "wtOrlp-cp6hk"
      },
      "source": [
        "8.- Ahora agruparemos los datos existentes para ver como están agrupados y buscar alguna similitud."
      ]
    },
    {
      "cell_type": "code",
      "metadata": {
        "colab": {
          "base_uri": "https://localhost:8080/",
          "height": 295
        },
        "id": "yub69nxDSHNR",
        "outputId": "951e8be7-3a07-4276-d2d0-622fd3f57827"
      },
      "source": [
        "df.groupby(['Outlet_Type', 'Outlet_Location_Type', 'Outlet_Size'])[['Outlet_Size']].count()"
      ],
      "execution_count": 13,
      "outputs": [
        {
          "output_type": "execute_result",
          "data": {
            "text/html": [
              "<div>\n",
              "<style scoped>\n",
              "    .dataframe tbody tr th:only-of-type {\n",
              "        vertical-align: middle;\n",
              "    }\n",
              "\n",
              "    .dataframe tbody tr th {\n",
              "        vertical-align: top;\n",
              "    }\n",
              "\n",
              "    .dataframe thead th {\n",
              "        text-align: right;\n",
              "    }\n",
              "</style>\n",
              "<table border=\"1\" class=\"dataframe\">\n",
              "  <thead>\n",
              "    <tr style=\"text-align: right;\">\n",
              "      <th></th>\n",
              "      <th></th>\n",
              "      <th></th>\n",
              "      <th>Outlet_Size</th>\n",
              "    </tr>\n",
              "    <tr>\n",
              "      <th>Outlet_Type</th>\n",
              "      <th>Outlet_Location_Type</th>\n",
              "      <th>Outlet_Size</th>\n",
              "      <th></th>\n",
              "    </tr>\n",
              "  </thead>\n",
              "  <tbody>\n",
              "    <tr>\n",
              "      <th>Grocery Store</th>\n",
              "      <th>Tier 1</th>\n",
              "      <th>Small</th>\n",
              "      <td>528</td>\n",
              "    </tr>\n",
              "    <tr>\n",
              "      <th rowspan=\"4\" valign=\"top\">Supermarket Type1</th>\n",
              "      <th rowspan=\"2\" valign=\"top\">Tier 1</th>\n",
              "      <th>Medium</th>\n",
              "      <td>930</td>\n",
              "    </tr>\n",
              "    <tr>\n",
              "      <th>Small</th>\n",
              "      <td>930</td>\n",
              "    </tr>\n",
              "    <tr>\n",
              "      <th>Tier 2</th>\n",
              "      <th>Small</th>\n",
              "      <td>930</td>\n",
              "    </tr>\n",
              "    <tr>\n",
              "      <th>Tier 3</th>\n",
              "      <th>High</th>\n",
              "      <td>932</td>\n",
              "    </tr>\n",
              "    <tr>\n",
              "      <th>Supermarket Type2</th>\n",
              "      <th>Tier 3</th>\n",
              "      <th>Medium</th>\n",
              "      <td>928</td>\n",
              "    </tr>\n",
              "    <tr>\n",
              "      <th>Supermarket Type3</th>\n",
              "      <th>Tier 3</th>\n",
              "      <th>Medium</th>\n",
              "      <td>935</td>\n",
              "    </tr>\n",
              "  </tbody>\n",
              "</table>\n",
              "</div>"
            ],
            "text/plain": [
              "                                                    Outlet_Size\n",
              "Outlet_Type       Outlet_Location_Type Outlet_Size             \n",
              "Grocery Store     Tier 1               Small                528\n",
              "Supermarket Type1 Tier 1               Medium               930\n",
              "                                       Small                930\n",
              "                  Tier 2               Small                930\n",
              "                  Tier 3               High                 932\n",
              "Supermarket Type2 Tier 3               Medium               928\n",
              "Supermarket Type3 Tier 3               Medium               935"
            ]
          },
          "metadata": {},
          "execution_count": 13
        }
      ]
    },
    {
      "cell_type": "markdown",
      "metadata": {
        "id": "P3xb0W7iXxru"
      },
      "source": [
        "**Análisis:**  Al revisar los datos faltantes de la columna *'Outlet_Size'*, se observa que los datos faltantes están en el tipo de tienda *'Grocery Store'* y *'Supermarket_Type1'.* \n",
        "  Al agrupar los datos existentes por *'Outlet_Type'* , *'Outlet_Size'* y *'Outlet_Location_Type'*, se observa que el tamaño de las tiendas *'Grocery Store'*  son todas Small por ende se puede suponer que los 555 datos faltantes de la columna *'Outlet_Size'* del tipo *'Grocery Store'* también son Small. \n",
        "  En el caso de los de tipo *'Supermarket_Type1'*, al analizar los datos faltantes y se puede observar que todos los NaN tienen en común que son de *'Tier 2'*, y si observamos los datos existentes que pertenecen a *'Supermarket_type1'* y están localizados en *'Tier 2'* todos son de tamaño Small, por ende, se puede suponer que estos NaN faltantes son de tamaño Small. "
      ]
    },
    {
      "cell_type": "markdown",
      "metadata": {
        "id": "GOMltSb9sdi6"
      },
      "source": [
        "9.- Cambiar los datos NaN de la columna 'Outlet_Size' por Small"
      ]
    },
    {
      "cell_type": "code",
      "metadata": {
        "id": "tMq4eiUbsnyY"
      },
      "source": [
        "df['Outlet_Size'] = df.loc[:, 'Outlet_Size'].fillna('Small')"
      ],
      "execution_count": 14,
      "outputs": []
    },
    {
      "cell_type": "code",
      "metadata": {
        "colab": {
          "base_uri": "https://localhost:8080/",
          "height": 307
        },
        "id": "Kdds0DWhs3Ff",
        "outputId": "0811f6e3-af0e-4776-9506-39e7b4269615"
      },
      "source": [
        "df.head()"
      ],
      "execution_count": 15,
      "outputs": [
        {
          "output_type": "execute_result",
          "data": {
            "text/html": [
              "<div>\n",
              "<style scoped>\n",
              "    .dataframe tbody tr th:only-of-type {\n",
              "        vertical-align: middle;\n",
              "    }\n",
              "\n",
              "    .dataframe tbody tr th {\n",
              "        vertical-align: top;\n",
              "    }\n",
              "\n",
              "    .dataframe thead th {\n",
              "        text-align: right;\n",
              "    }\n",
              "</style>\n",
              "<table border=\"1\" class=\"dataframe\">\n",
              "  <thead>\n",
              "    <tr style=\"text-align: right;\">\n",
              "      <th></th>\n",
              "      <th>Item_Identifier</th>\n",
              "      <th>Item_Weight</th>\n",
              "      <th>Item_Fat_Content</th>\n",
              "      <th>Item_Visibility</th>\n",
              "      <th>Item_Type</th>\n",
              "      <th>Item_MRP</th>\n",
              "      <th>Outlet_Identifier</th>\n",
              "      <th>Outlet_Establishment_Year</th>\n",
              "      <th>Outlet_Size</th>\n",
              "      <th>Outlet_Location_Type</th>\n",
              "      <th>Outlet_Type</th>\n",
              "      <th>Item_Outlet_Sales</th>\n",
              "    </tr>\n",
              "  </thead>\n",
              "  <tbody>\n",
              "    <tr>\n",
              "      <th>0</th>\n",
              "      <td>FDA15</td>\n",
              "      <td>9.30</td>\n",
              "      <td>Low Fat</td>\n",
              "      <td>0.016047</td>\n",
              "      <td>Dairy</td>\n",
              "      <td>249.8092</td>\n",
              "      <td>OUT049</td>\n",
              "      <td>1999</td>\n",
              "      <td>Medium</td>\n",
              "      <td>Tier 1</td>\n",
              "      <td>Supermarket Type1</td>\n",
              "      <td>3735.1380</td>\n",
              "    </tr>\n",
              "    <tr>\n",
              "      <th>1</th>\n",
              "      <td>DRC01</td>\n",
              "      <td>5.92</td>\n",
              "      <td>Regular</td>\n",
              "      <td>0.019278</td>\n",
              "      <td>Soft Drinks</td>\n",
              "      <td>48.2692</td>\n",
              "      <td>OUT018</td>\n",
              "      <td>2009</td>\n",
              "      <td>Medium</td>\n",
              "      <td>Tier 3</td>\n",
              "      <td>Supermarket Type2</td>\n",
              "      <td>443.4228</td>\n",
              "    </tr>\n",
              "    <tr>\n",
              "      <th>2</th>\n",
              "      <td>FDN15</td>\n",
              "      <td>17.50</td>\n",
              "      <td>Low Fat</td>\n",
              "      <td>0.016760</td>\n",
              "      <td>Meat</td>\n",
              "      <td>141.6180</td>\n",
              "      <td>OUT049</td>\n",
              "      <td>1999</td>\n",
              "      <td>Medium</td>\n",
              "      <td>Tier 1</td>\n",
              "      <td>Supermarket Type1</td>\n",
              "      <td>2097.2700</td>\n",
              "    </tr>\n",
              "    <tr>\n",
              "      <th>3</th>\n",
              "      <td>FDX07</td>\n",
              "      <td>19.20</td>\n",
              "      <td>Regular</td>\n",
              "      <td>0.000000</td>\n",
              "      <td>Fruits and Vegetables</td>\n",
              "      <td>182.0950</td>\n",
              "      <td>OUT010</td>\n",
              "      <td>1998</td>\n",
              "      <td>Small</td>\n",
              "      <td>Tier 3</td>\n",
              "      <td>Grocery Store</td>\n",
              "      <td>732.3800</td>\n",
              "    </tr>\n",
              "    <tr>\n",
              "      <th>4</th>\n",
              "      <td>NCD19</td>\n",
              "      <td>8.93</td>\n",
              "      <td>Low Fat</td>\n",
              "      <td>0.000000</td>\n",
              "      <td>Household</td>\n",
              "      <td>53.8614</td>\n",
              "      <td>OUT013</td>\n",
              "      <td>1987</td>\n",
              "      <td>High</td>\n",
              "      <td>Tier 3</td>\n",
              "      <td>Supermarket Type1</td>\n",
              "      <td>994.7052</td>\n",
              "    </tr>\n",
              "  </tbody>\n",
              "</table>\n",
              "</div>"
            ],
            "text/plain": [
              "  Item_Identifier  Item_Weight  ...        Outlet_Type  Item_Outlet_Sales\n",
              "0           FDA15         9.30  ...  Supermarket Type1          3735.1380\n",
              "1           DRC01         5.92  ...  Supermarket Type2           443.4228\n",
              "2           FDN15        17.50  ...  Supermarket Type1          2097.2700\n",
              "3           FDX07        19.20  ...      Grocery Store           732.3800\n",
              "4           NCD19         8.93  ...  Supermarket Type1           994.7052\n",
              "\n",
              "[5 rows x 12 columns]"
            ]
          },
          "metadata": {},
          "execution_count": 15
        }
      ]
    },
    {
      "cell_type": "markdown",
      "metadata": {
        "id": "GU4gjORFvVMN"
      },
      "source": [
        "10.- Ahora vamos a eliminar los 4 datos pendientes de la columna 'Item_weight'"
      ]
    },
    {
      "cell_type": "code",
      "metadata": {
        "colab": {
          "base_uri": "https://localhost:8080/"
        },
        "id": "k0oR9_WUvSec",
        "outputId": "9d3fbf4f-2ab0-49e6-af62-3138b2c2743f"
      },
      "source": [
        "#vista previa a la eliminación.\n",
        "df.info()"
      ],
      "execution_count": 16,
      "outputs": [
        {
          "output_type": "stream",
          "name": "stdout",
          "text": [
            "<class 'pandas.core.frame.DataFrame'>\n",
            "RangeIndex: 8523 entries, 0 to 8522\n",
            "Data columns (total 12 columns):\n",
            " #   Column                     Non-Null Count  Dtype  \n",
            "---  ------                     --------------  -----  \n",
            " 0   Item_Identifier            8523 non-null   object \n",
            " 1   Item_Weight                8519 non-null   float64\n",
            " 2   Item_Fat_Content           8523 non-null   object \n",
            " 3   Item_Visibility            8523 non-null   float64\n",
            " 4   Item_Type                  8523 non-null   object \n",
            " 5   Item_MRP                   8523 non-null   float64\n",
            " 6   Outlet_Identifier          8523 non-null   object \n",
            " 7   Outlet_Establishment_Year  8523 non-null   int64  \n",
            " 8   Outlet_Size                8523 non-null   object \n",
            " 9   Outlet_Location_Type       8523 non-null   object \n",
            " 10  Outlet_Type                8523 non-null   object \n",
            " 11  Item_Outlet_Sales          8523 non-null   float64\n",
            "dtypes: float64(4), int64(1), object(7)\n",
            "memory usage: 799.2+ KB\n"
          ]
        }
      ]
    },
    {
      "cell_type": "code",
      "metadata": {
        "id": "WHGyEpaKvoi_"
      },
      "source": [
        "df1 = df.loc[:,:].dropna(how = 'any')"
      ],
      "execution_count": 17,
      "outputs": []
    },
    {
      "cell_type": "code",
      "metadata": {
        "colab": {
          "base_uri": "https://localhost:8080/"
        },
        "id": "r1HWP7C3vTw8",
        "outputId": "8571ccd1-17cb-4a1d-d29c-ba0e7cc962b4"
      },
      "source": [
        "#vista posterior a la eliminacion de datos. \n",
        "df1.info()"
      ],
      "execution_count": 18,
      "outputs": [
        {
          "output_type": "stream",
          "name": "stdout",
          "text": [
            "<class 'pandas.core.frame.DataFrame'>\n",
            "Int64Index: 8519 entries, 0 to 8522\n",
            "Data columns (total 12 columns):\n",
            " #   Column                     Non-Null Count  Dtype  \n",
            "---  ------                     --------------  -----  \n",
            " 0   Item_Identifier            8519 non-null   object \n",
            " 1   Item_Weight                8519 non-null   float64\n",
            " 2   Item_Fat_Content           8519 non-null   object \n",
            " 3   Item_Visibility            8519 non-null   float64\n",
            " 4   Item_Type                  8519 non-null   object \n",
            " 5   Item_MRP                   8519 non-null   float64\n",
            " 6   Outlet_Identifier          8519 non-null   object \n",
            " 7   Outlet_Establishment_Year  8519 non-null   int64  \n",
            " 8   Outlet_Size                8519 non-null   object \n",
            " 9   Outlet_Location_Type       8519 non-null   object \n",
            " 10  Outlet_Type                8519 non-null   object \n",
            " 11  Item_Outlet_Sales          8519 non-null   float64\n",
            "dtypes: float64(4), int64(1), object(7)\n",
            "memory usage: 865.2+ KB\n"
          ]
        }
      ]
    },
    {
      "cell_type": "markdown",
      "metadata": {
        "id": "i0ns5PZMxD13"
      },
      "source": [
        "Ahora tenemos un DataFrame sin datos faltantes."
      ]
    },
    {
      "cell_type": "markdown",
      "source": [
        "Más adelante, en las visualizaciones trabajaremos con la columna 'Item_Fat_Content' y vamos a dejar solo una forma de indicar los productos bajos en grasa y los regulares. Dejaremos solo Low Fat y Regular."
      ],
      "metadata": {
        "id": "OWpl9H9T0UT7"
      }
    },
    {
      "cell_type": "code",
      "source": [
        "df1['Item_Fat_Content'].unique()"
      ],
      "metadata": {
        "colab": {
          "base_uri": "https://localhost:8080/"
        },
        "id": "wFvk-qPEyF3f",
        "outputId": "1e6f62d7-5c97-46c8-9717-b294104c6b11"
      },
      "execution_count": 19,
      "outputs": [
        {
          "output_type": "execute_result",
          "data": {
            "text/plain": [
              "array(['Low Fat', 'Regular', 'low fat', 'LF', 'reg'], dtype=object)"
            ]
          },
          "metadata": {},
          "execution_count": 19
        }
      ]
    },
    {
      "cell_type": "code",
      "source": [
        "#Cambiar low fat por Low Fat\n",
        "df1['Item_Fat_Content'] = df1['Item_Fat_Content'].replace('low fat', 'Low Fat')"
      ],
      "metadata": {
        "colab": {
          "base_uri": "https://localhost:8080/"
        },
        "id": "oqQSOYLA2P8k",
        "outputId": "dffd533e-516e-4065-9356-4b38664e8b30"
      },
      "execution_count": 20,
      "outputs": [
        {
          "output_type": "stream",
          "name": "stderr",
          "text": [
            "/usr/local/lib/python3.7/dist-packages/ipykernel_launcher.py:2: SettingWithCopyWarning: \n",
            "A value is trying to be set on a copy of a slice from a DataFrame.\n",
            "Try using .loc[row_indexer,col_indexer] = value instead\n",
            "\n",
            "See the caveats in the documentation: https://pandas.pydata.org/pandas-docs/stable/user_guide/indexing.html#returning-a-view-versus-a-copy\n",
            "  \n"
          ]
        }
      ]
    },
    {
      "cell_type": "code",
      "source": [
        "#Cambiar LF por Low Fat\n",
        "df1['Item_Fat_Content'] = df1['Item_Fat_Content'].replace('LF', 'Low Fat')"
      ],
      "metadata": {
        "colab": {
          "base_uri": "https://localhost:8080/"
        },
        "id": "QAZnhO2k461U",
        "outputId": "f0a0f99e-6113-41a4-e42a-eae3f8d6dd37"
      },
      "execution_count": 21,
      "outputs": [
        {
          "output_type": "stream",
          "name": "stderr",
          "text": [
            "/usr/local/lib/python3.7/dist-packages/ipykernel_launcher.py:2: SettingWithCopyWarning: \n",
            "A value is trying to be set on a copy of a slice from a DataFrame.\n",
            "Try using .loc[row_indexer,col_indexer] = value instead\n",
            "\n",
            "See the caveats in the documentation: https://pandas.pydata.org/pandas-docs/stable/user_guide/indexing.html#returning-a-view-versus-a-copy\n",
            "  \n"
          ]
        }
      ]
    },
    {
      "cell_type": "code",
      "source": [
        "#Cambiar reg por Regular\n",
        "df1['Item_Fat_Content'] = df1['Item_Fat_Content'].replace('reg', 'Regular')"
      ],
      "metadata": {
        "colab": {
          "base_uri": "https://localhost:8080/"
        },
        "id": "mF6oD_n25A6H",
        "outputId": "959dddd0-20fe-4348-fbce-2d9ca8db66e7"
      },
      "execution_count": 22,
      "outputs": [
        {
          "output_type": "stream",
          "name": "stderr",
          "text": [
            "/usr/local/lib/python3.7/dist-packages/ipykernel_launcher.py:2: SettingWithCopyWarning: \n",
            "A value is trying to be set on a copy of a slice from a DataFrame.\n",
            "Try using .loc[row_indexer,col_indexer] = value instead\n",
            "\n",
            "See the caveats in the documentation: https://pandas.pydata.org/pandas-docs/stable/user_guide/indexing.html#returning-a-view-versus-a-copy\n",
            "  \n"
          ]
        }
      ]
    },
    {
      "cell_type": "code",
      "source": [
        "#ahora nos quedaron solo clasificados por Low Fat y Regular\n",
        "df1['Item_Fat_Content'].unique()"
      ],
      "metadata": {
        "colab": {
          "base_uri": "https://localhost:8080/"
        },
        "id": "F5gKZGmW4sZV",
        "outputId": "d47cba4f-4f21-4b68-ef23-38e7dd012f62"
      },
      "execution_count": 23,
      "outputs": [
        {
          "output_type": "execute_result",
          "data": {
            "text/plain": [
              "array(['Low Fat', 'Regular'], dtype=object)"
            ]
          },
          "metadata": {},
          "execution_count": 23
        }
      ]
    },
    {
      "cell_type": "markdown",
      "source": [
        "# Visualizaciones"
      ],
      "metadata": {
        "id": "soWazz_1RrFx"
      }
    },
    {
      "cell_type": "code",
      "source": [
        "import matplotlib.pyplot as plt\n",
        "import pandas as pd\n",
        "import seaborn as sns\n",
        "import numpy as np\n",
        "from numpy import arange"
      ],
      "metadata": {
        "id": "jW-_t6EGV18S"
      },
      "execution_count": 24,
      "outputs": []
    },
    {
      "cell_type": "markdown",
      "source": [
        "**Objetivo del análisis: Aumentar las ventas**\n",
        "\n"
      ],
      "metadata": {
        "id": "ALiXevqPTxai"
      }
    },
    {
      "cell_type": "markdown",
      "source": [
        "Descripción de las columnas del DataFrame:"
      ],
      "metadata": {
        "id": "DOnlSZXsXAIr"
      }
    },
    {
      "cell_type": "markdown",
      "source": [
        "![Captura.PNG](data:image/png;base64,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)"
      ],
      "metadata": {
        "id": "Agw9nCHsUwam"
      }
    },
    {
      "cell_type": "code",
      "source": [
        "df1.head()"
      ],
      "metadata": {
        "colab": {
          "base_uri": "https://localhost:8080/",
          "height": 307
        },
        "id": "9ZLa-iMlRvKR",
        "outputId": "6bcd1f3b-cfcf-4ce9-cc1f-f3e600a32404"
      },
      "execution_count": 25,
      "outputs": [
        {
          "output_type": "execute_result",
          "data": {
            "text/html": [
              "<div>\n",
              "<style scoped>\n",
              "    .dataframe tbody tr th:only-of-type {\n",
              "        vertical-align: middle;\n",
              "    }\n",
              "\n",
              "    .dataframe tbody tr th {\n",
              "        vertical-align: top;\n",
              "    }\n",
              "\n",
              "    .dataframe thead th {\n",
              "        text-align: right;\n",
              "    }\n",
              "</style>\n",
              "<table border=\"1\" class=\"dataframe\">\n",
              "  <thead>\n",
              "    <tr style=\"text-align: right;\">\n",
              "      <th></th>\n",
              "      <th>Item_Identifier</th>\n",
              "      <th>Item_Weight</th>\n",
              "      <th>Item_Fat_Content</th>\n",
              "      <th>Item_Visibility</th>\n",
              "      <th>Item_Type</th>\n",
              "      <th>Item_MRP</th>\n",
              "      <th>Outlet_Identifier</th>\n",
              "      <th>Outlet_Establishment_Year</th>\n",
              "      <th>Outlet_Size</th>\n",
              "      <th>Outlet_Location_Type</th>\n",
              "      <th>Outlet_Type</th>\n",
              "      <th>Item_Outlet_Sales</th>\n",
              "    </tr>\n",
              "  </thead>\n",
              "  <tbody>\n",
              "    <tr>\n",
              "      <th>0</th>\n",
              "      <td>FDA15</td>\n",
              "      <td>9.30</td>\n",
              "      <td>Low Fat</td>\n",
              "      <td>0.016047</td>\n",
              "      <td>Dairy</td>\n",
              "      <td>249.8092</td>\n",
              "      <td>OUT049</td>\n",
              "      <td>1999</td>\n",
              "      <td>Medium</td>\n",
              "      <td>Tier 1</td>\n",
              "      <td>Supermarket Type1</td>\n",
              "      <td>3735.1380</td>\n",
              "    </tr>\n",
              "    <tr>\n",
              "      <th>1</th>\n",
              "      <td>DRC01</td>\n",
              "      <td>5.92</td>\n",
              "      <td>Regular</td>\n",
              "      <td>0.019278</td>\n",
              "      <td>Soft Drinks</td>\n",
              "      <td>48.2692</td>\n",
              "      <td>OUT018</td>\n",
              "      <td>2009</td>\n",
              "      <td>Medium</td>\n",
              "      <td>Tier 3</td>\n",
              "      <td>Supermarket Type2</td>\n",
              "      <td>443.4228</td>\n",
              "    </tr>\n",
              "    <tr>\n",
              "      <th>2</th>\n",
              "      <td>FDN15</td>\n",
              "      <td>17.50</td>\n",
              "      <td>Low Fat</td>\n",
              "      <td>0.016760</td>\n",
              "      <td>Meat</td>\n",
              "      <td>141.6180</td>\n",
              "      <td>OUT049</td>\n",
              "      <td>1999</td>\n",
              "      <td>Medium</td>\n",
              "      <td>Tier 1</td>\n",
              "      <td>Supermarket Type1</td>\n",
              "      <td>2097.2700</td>\n",
              "    </tr>\n",
              "    <tr>\n",
              "      <th>3</th>\n",
              "      <td>FDX07</td>\n",
              "      <td>19.20</td>\n",
              "      <td>Regular</td>\n",
              "      <td>0.000000</td>\n",
              "      <td>Fruits and Vegetables</td>\n",
              "      <td>182.0950</td>\n",
              "      <td>OUT010</td>\n",
              "      <td>1998</td>\n",
              "      <td>Small</td>\n",
              "      <td>Tier 3</td>\n",
              "      <td>Grocery Store</td>\n",
              "      <td>732.3800</td>\n",
              "    </tr>\n",
              "    <tr>\n",
              "      <th>4</th>\n",
              "      <td>NCD19</td>\n",
              "      <td>8.93</td>\n",
              "      <td>Low Fat</td>\n",
              "      <td>0.000000</td>\n",
              "      <td>Household</td>\n",
              "      <td>53.8614</td>\n",
              "      <td>OUT013</td>\n",
              "      <td>1987</td>\n",
              "      <td>High</td>\n",
              "      <td>Tier 3</td>\n",
              "      <td>Supermarket Type1</td>\n",
              "      <td>994.7052</td>\n",
              "    </tr>\n",
              "  </tbody>\n",
              "</table>\n",
              "</div>"
            ],
            "text/plain": [
              "  Item_Identifier  Item_Weight  ...        Outlet_Type  Item_Outlet_Sales\n",
              "0           FDA15         9.30  ...  Supermarket Type1          3735.1380\n",
              "1           DRC01         5.92  ...  Supermarket Type2           443.4228\n",
              "2           FDN15        17.50  ...  Supermarket Type1          2097.2700\n",
              "3           FDX07        19.20  ...      Grocery Store           732.3800\n",
              "4           NCD19         8.93  ...  Supermarket Type1           994.7052\n",
              "\n",
              "[5 rows x 12 columns]"
            ]
          },
          "metadata": {},
          "execution_count": 25
        }
      ]
    },
    {
      "cell_type": "markdown",
      "source": [
        "**Análisis del tipo de tienda que más vende:**"
      ],
      "metadata": {
        "id": "h2dMJ_vDbkg_"
      }
    },
    {
      "cell_type": "code",
      "source": [
        "df1['Outlet_Type'].unique()"
      ],
      "metadata": {
        "colab": {
          "base_uri": "https://localhost:8080/"
        },
        "id": "aV2q4waNWYBr",
        "outputId": "74aacfc6-25c3-49e6-f240-f22014b99e9c"
      },
      "execution_count": 26,
      "outputs": [
        {
          "output_type": "execute_result",
          "data": {
            "text/plain": [
              "array(['Supermarket Type1', 'Supermarket Type2', 'Grocery Store',\n",
              "       'Supermarket Type3'], dtype=object)"
            ]
          },
          "metadata": {},
          "execution_count": 26
        }
      ]
    },
    {
      "cell_type": "code",
      "source": [
        "ventas_type_store= df1.groupby(by='Outlet_Type')['Item_Outlet_Sales'].sum().sort_values(ascending= False)\n",
        "ventas_type_store"
      ],
      "metadata": {
        "colab": {
          "base_uri": "https://localhost:8080/"
        },
        "id": "oo3r1YtMZk9r",
        "outputId": "15ba1c6e-cf0b-4fc1-a65a-403b575bcf20"
      },
      "execution_count": 27,
      "outputs": [
        {
          "output_type": "execute_result",
          "data": {
            "text/plain": [
              "Outlet_Type\n",
              "Supermarket Type1    1.291734e+07\n",
              "Supermarket Type3    3.444468e+06\n",
              "Supermarket Type2    1.851823e+06\n",
              "Grocery Store        3.679138e+05\n",
              "Name: Item_Outlet_Sales, dtype: float64"
            ]
          },
          "metadata": {},
          "execution_count": 27
        }
      ]
    },
    {
      "cell_type": "code",
      "source": [
        "destacar= [0.1, 0, 0, 0]\n",
        "plt.pie(ventas_type_store.values, labels= ventas_type_store.index, autopct=\"%.2f%%\", pctdistance= 0.8, explode= destacar);\n",
        "plt.title('% de Participación', fontsize = 16);"
      ],
      "metadata": {
        "colab": {
          "base_uri": "https://localhost:8080/",
          "height": 267
        },
        "id": "Bm8Ev2FNZx5Z",
        "outputId": "48783eb1-51bf-4556-b5bd-ae8c491d3c7d"
      },
      "execution_count": 28,
      "outputs": [
        {
          "output_type": "display_data",
          "data": {
            "image/png": "[encoded data removed]",
            "text/plain": [
              "<Figure size 432x288 with 1 Axes>"
            ]
          },
          "metadata": {}
        }
      ]
    },
    {
      "cell_type": "markdown",
      "source": [
        "  Las tiendas que participan más en ventas son las tiendas clasificadas como Supermarket Type1."
      ],
      "metadata": {
        "id": "sMeEGFvVZMf1"
      }
    },
    {
      "cell_type": "markdown",
      "source": [
        "**Análisis de ventas con respecto al tipo de producto.**\n",
        "\n"
      ],
      "metadata": {
        "id": "PU0GFp6IeIy5"
      }
    },
    {
      "cell_type": "code",
      "source": [
        "ventas_itemtype =df1.groupby(by='Item_Type')['Item_Outlet_Sales'].sum().sort_values(ascending= False)\n",
        "ventas_itemtype"
      ],
      "metadata": {
        "colab": {
          "base_uri": "https://localhost:8080/"
        },
        "id": "NF9XX0zcauqE",
        "outputId": "74f3f26d-bd21-4380-c4c2-adaa0fc284f3"
      },
      "execution_count": 29,
      "outputs": [
        {
          "output_type": "execute_result",
          "data": {
            "text/plain": [
              "Item_Type\n",
              "Fruits and Vegetables    2.820060e+06\n",
              "Snack Foods              2.728352e+06\n",
              "Household                2.055494e+06\n",
              "Frozen Foods             1.824165e+06\n",
              "Dairy                    1.519141e+06\n",
              "Canned                   1.444151e+06\n",
              "Baking Goods             1.265405e+06\n",
              "Health and Hygiene       1.045200e+06\n",
              "Meat                     9.175656e+05\n",
              "Soft Drinks              8.928977e+05\n",
              "Breads                   5.532372e+05\n",
              "Hard Drinks              4.577934e+05\n",
              "Starchy Foods            3.514013e+05\n",
              "Others                   3.255176e+05\n",
              "Breakfast                2.322990e+05\n",
              "Seafood                  1.488682e+05\n",
              "Name: Item_Outlet_Sales, dtype: float64"
            ]
          },
          "metadata": {},
          "execution_count": 29
        }
      ]
    },
    {
      "cell_type": "code",
      "source": [
        "sns.barplot(ventas_itemtype.index, ventas_itemtype.values);\n",
        "plt.title('Venta total segun tipo de producto', fontsize = 16);\n",
        "plt.xticks(rotation =90);\n",
        "plt.xlabel('Tipo de Producto', fontsize = 14);\n",
        "plt.ylabel('Ventas', fontsize = 14);"
      ],
      "metadata": {
        "colab": {
          "base_uri": "https://localhost:8080/",
          "height": 453
        },
        "id": "U3zM7GbVd-TX",
        "outputId": "2b9ee8f2-28b4-4bf3-b2fb-156ab455c3fa"
      },
      "execution_count": 30,
      "outputs": [
        {
          "output_type": "stream",
          "name": "stderr",
          "text": [
            "/usr/local/lib/python3.7/dist-packages/seaborn/_decorators.py:43: FutureWarning: Pass the following variables as keyword args: x, y. From version 0.12, the only valid positional argument will be `data`, and passing other arguments without an explicit keyword will result in an error or misinterpretation.\n",
            "  FutureWarning\n"
          ]
        },
        {
          "output_type": "display_data",
          "data": {
            "image/png": "[encoded data removed]",
            "text/plain": [
              "<Figure size 432x288 with 1 Axes>"
            ]
          },
          "metadata": {
            "needs_background": "light"
          }
        }
      ]
    },
    {
      "cell_type": "markdown",
      "source": [
        "Este grafico nos muestra cuales son los tipos de productos más vendidas, considerando al informaciones todas las tiendas."
      ],
      "metadata": {
        "id": "Sej32iLCZoep"
      }
    },
    {
      "cell_type": "markdown",
      "source": [
        "**Análisis de Supermarket Type1:** Considerando que los Supermarket Type1 son los con mayor venta, analizaremos la venta de los productos regulares y bajo en grasas de esta categoría de tienda."
      ],
      "metadata": {
        "id": "rM2nQZ1lyu-g"
      }
    },
    {
      "cell_type": "markdown",
      "source": [
        "Crearemos una columna con las cantidades vendidas por tienda "
      ],
      "metadata": {
        "id": "4v6yY0uymdYR"
      }
    },
    {
      "cell_type": "code",
      "source": [
        "df1['sold_units'] = df1['Item_Outlet_Sales'].values / df1['Item_MRP'].values"
      ],
      "metadata": {
        "colab": {
          "base_uri": "https://localhost:8080/"
        },
        "id": "yOXOibxYjs6W",
        "outputId": "9b1d31e3-65e8-4614-bd0b-143b693fd3ef"
      },
      "execution_count": 31,
      "outputs": [
        {
          "output_type": "stream",
          "name": "stderr",
          "text": [
            "/usr/local/lib/python3.7/dist-packages/ipykernel_launcher.py:1: SettingWithCopyWarning: \n",
            "A value is trying to be set on a copy of a slice from a DataFrame.\n",
            "Try using .loc[row_indexer,col_indexer] = value instead\n",
            "\n",
            "See the caveats in the documentation: https://pandas.pydata.org/pandas-docs/stable/user_guide/indexing.html#returning-a-view-versus-a-copy\n",
            "  \"\"\"Entry point for launching an IPython kernel.\n"
          ]
        }
      ]
    },
    {
      "cell_type": "code",
      "source": [
        "#Filtros:\n",
        "Super1 = df1['Outlet_Type'] =='Supermarket Type1'\n",
        "Super2 = df1['Outlet_Type'] =='Supermarket Type2'\n",
        "Super3 = df1['Outlet_Type'] =='Supermarket Type3'\n",
        "Grocery = df1['Outlet_Type'] =='Grocery Store'\n",
        "\n",
        "Low_Fat = df1['Item_Fat_Content']=='Low Fat'"
      ],
      "metadata": {
        "id": "h-thFkyMm7zR"
      },
      "execution_count": 32,
      "outputs": []
    },
    {
      "cell_type": "code",
      "source": [
        "Low_super1= df1.loc[Super1 & Low_Fat,:].groupby(['Item_Identifier'])['sold_units'].mean().sort_values(ascending= False).head(10)\n",
        "Reg_super1= df1.loc[Super1 & ~Low_Fat,:].groupby(by= 'Item_Identifier')['sold_units'].mean().sort_values(ascending= False).head(10)"
      ],
      "metadata": {
        "id": "gV6o0A9mLdL3"
      },
      "execution_count": 33,
      "outputs": []
    },
    {
      "cell_type": "code",
      "source": [
        "fig = plt.figure(figsize=(20,5), dpi=70)\n",
        "#Subplot 1\n",
        "plt.subplot(1, 2, 1);\n",
        "sns.barplot(Low_super1.index, Low_super1.values);\n",
        "plt.title('Los 10 productos más vendidos \"Low Fat\" en Supermarket Type1', fontsize = 16);\n",
        "plt.xticks(rotation =90);\n",
        "plt.xlabel('ID del producto', fontsize = 14);\n",
        "plt.ylabel('Unidades vendidas', fontsize = 14);\n",
        "plt.ylim(bottom=0,top=40)\n",
        "#Subplot 2\n",
        "plt.subplot(1, 2, 2);\n",
        "sns.barplot(Reg_super1.index, Reg_super1.values);\n",
        "plt.title('Los 10 productos más vendidos \"Regular\" en Supermarket Type1', fontsize = 16);\n",
        "plt.xticks(rotation =90);\n",
        "plt.xlabel('ID del producto', fontsize = 14);\n",
        "plt.ylabel('Unidades vendidas', fontsize = 14);\n",
        "plt.ylim(bottom=0,top=40)"
      ],
      "metadata": {
        "colab": {
          "base_uri": "https://localhost:8080/",
          "height": 478
        },
        "id": "BA9EKfTHT6Lp",
        "outputId": "fb09cf25-cb02-408b-cb1d-0364fbdc76f9"
      },
      "execution_count": 43,
      "outputs": [
        {
          "output_type": "stream",
          "name": "stderr",
          "text": [
            "/usr/local/lib/python3.7/dist-packages/seaborn/_decorators.py:43: FutureWarning: Pass the following variables as keyword args: x, y. From version 0.12, the only valid positional argument will be `data`, and passing other arguments without an explicit keyword will result in an error or misinterpretation.\n",
            "  FutureWarning\n",
            "/usr/local/lib/python3.7/dist-packages/seaborn/_decorators.py:43: FutureWarning: Pass the following variables as keyword args: x, y. From version 0.12, the only valid positional argument will be `data`, and passing other arguments without an explicit keyword will result in an error or misinterpretation.\n",
            "  FutureWarning\n"
          ]
        },
        {
          "output_type": "execute_result",
          "data": {
            "text/plain": [
              "(0.0, 40.0)"
            ]
          },
          "metadata": {},
          "execution_count": 43
        },
        {
          "output_type": "display_data",
          "data": {
            "image/png": "[encoded data removed]",
            "text/plain": [
              "<Figure size 1400x350 with 2 Axes>"
            ]
          },
          "metadata": {
            "needs_background": "light"
          }
        }
      ]
    },
    {
      "cell_type": "markdown",
      "source": [
        "Este grafico nos muestra los 10 productos más vendidas, en la categoría Low Fat y Regular, en un Supermarket Type1."
      ],
      "metadata": {
        "id": "f898otG6aCVw"
      }
    }
  ]
}